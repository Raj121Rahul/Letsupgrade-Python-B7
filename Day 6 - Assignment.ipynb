{
 "cells": [
  {
   "cell_type": "markdown",
   "metadata": {},
   "source": [
    "#   Asssignment - 1"
   ]
  },
  {
   "cell_type": "code",
   "execution_count": 1,
   "metadata": {},
   "outputs": [
    {
     "name": "stdout",
     "output_type": "stream",
     "text": [
      "total amount:  30000\n",
      "total balance:  5000\n",
      "total amount:  5500\n",
      "total balance is low\n"
     ]
    }
   ],
   "source": [
    "class bankaccount():\n",
    "    def __init__(self, owner_name, balance):\n",
    "        self.owner_name = owner_name \n",
    "        self.balance = balance\n",
    "\n",
    "    def deposit(self, amount):\n",
    "        self.balance += amount\n",
    "        return print(\"total amount: \",self.balance)\n",
    "    def withdraw(self, amount):\n",
    "        if amount > self.balance:\n",
    "            return print(\"total balance is low\")\n",
    "        else:\n",
    "            self.balance-= amount\n",
    "            return print(\"total balance: \",self.balance)\n",
    "\n",
    "bank = bankaccount('Rahul',25000)\n",
    "bank.deposit(5000)\n",
    "bank.withdraw(25000)\n",
    "bank.deposit(500)\n",
    "bank.withdraw(6000)"
   ]
  },
  {
   "cell_type": "code",
   "execution_count": 3,
   "metadata": {},
   "outputs": [
    {
     "name": "stdout",
     "output_type": "stream",
     "text": [
      "volume is:  308.16\n",
      "surface area is:  172.2666769865838\n"
     ]
    }
   ],
   "source": [
    "from math import sqrt\n",
    "class cone():\n",
    "    def __init__(self,radius,height,pi):\n",
    "        self.radius = radius\n",
    "        self.height = height\n",
    "        self.pi = pi\n",
    "\n",
    "    def volume(self):\n",
    "        vol = self.radius*self.radius*self.pi*self.height/3\n",
    "        return print(\"volume is: \",vol)\n",
    "    def surfacearea(self):\n",
    "        l = pow(self.radius,2) + pow(self.height,2)\n",
    "        area = self.radius*self.pi*sqrt(l)\n",
    "        return print(\"surface area is: \",area)\n",
    "\n",
    "cn = cone(6,12,2.14)\n",
    "cn.volume()\n",
    "cn.surfacearea()\n",
    "                                            "
   ]
  },
  {
   "cell_type": "code",
   "execution_count": null,
   "metadata": {},
   "outputs": [],
   "source": []
  }
 ],
 "metadata": {
  "kernelspec": {
   "display_name": "Python 3",
   "language": "python",
   "name": "python3"
  },
  "language_info": {
   "codemirror_mode": {
    "name": "ipython",
    "version": 3
   },
   "file_extension": ".py",
   "mimetype": "text/x-python",
   "name": "python",
   "nbconvert_exporter": "python",
   "pygments_lexer": "ipython3",
   "version": "3.8.3"
  }
 },
 "nbformat": 4,
 "nbformat_minor": 4
}
