{
 "cells": [
  {
   "cell_type": "markdown",
   "metadata": {},
   "source": [
    "#  Question - 2"
   ]
  },
  {
   "cell_type": "code",
   "execution_count": 2,
   "metadata": {},
   "outputs": [
    {
     "name": "stdout",
     "output_type": "stream",
     "text": [
      "Enter 'x' for exit.\n",
      "Enter the interval (starting and ending number): \n",
      "1\n",
      "1000\n",
      "1\n",
      "153\n",
      "370\n",
      "371\n",
      "407\n"
     ]
    }
   ],
   "source": [
    "# Armstrong number between 1-1000.\n",
    "\n",
    "print(\"Enter 'x' for exit.\")\n",
    "print(\"Enter the interval (starting and ending number): \")\n",
    "start = input()\n",
    "if start == 'x':\n",
    "    exit()\n",
    "else:\n",
    "    end = input()\n",
    "    lower = int(start)\n",
    "    upper = int(end)\n",
    "    for num in range(lower, upper+1):\n",
    "        tot = 0\n",
    "        temp = num\n",
    "        while temp != 0:\n",
    "            dig = temp % 10\n",
    "            tot += dig ** 3\n",
    "            temp //= 10\n",
    "        if num == tot:\n",
    "            print(num)"
   ]
  },
  {
   "cell_type": "markdown",
   "metadata": {},
   "source": [
    "#  Question - 1"
   ]
  },
  {
   "cell_type": "code",
   "execution_count": 5,
   "metadata": {},
   "outputs": [
    {
     "name": "stdout",
     "output_type": "stream",
     "text": [
      "Enter any integer number  : 5\n",
      "Prime Number \n"
     ]
    }
   ],
   "source": [
    "def check_prime(n):\n",
    "        flag = True\n",
    "        for x in range(2, n):\n",
    "            if n % x == 0:\n",
    "                flag = False\n",
    "\n",
    "        return flag\n",
    "\n",
    "if __name__ == \"__main__\":\n",
    "        n = int(input('Enter any integer number  : '))\n",
    "        result = check_prime(n)\n",
    "        print(\"Prime Number \" if (result) else 'Not prime Number')"
   ]
  },
  {
   "cell_type": "code",
   "execution_count": 10,
   "metadata": {},
   "outputs": [
    {
     "name": "stderr",
     "output_type": "stream",
     "text": [
      "E\n",
      "======================================================================\n",
      "ERROR: C:\\Users\\ROSHAN\\AppData\\Roaming\\jupyter\\runtime\\kernel-b7c77771-6cba-4564-9dea-2b1e75c33077 (unittest.loader._FailedTest)\n",
      "----------------------------------------------------------------------\n",
      "AttributeError: module '__main__' has no attribute 'C:\\Users\\ROSHAN\\AppData\\Roaming\\jupyter\\runtime\\kernel-b7c77771-6cba-4564-9dea-2b1e75c33077'\n",
      "\n",
      "----------------------------------------------------------------------\n",
      "Ran 1 test in 0.001s\n",
      "\n",
      "FAILED (errors=1)\n"
     ]
    },
    {
     "ename": "SystemExit",
     "evalue": "True",
     "output_type": "error",
     "traceback": [
      "An exception has occurred, use %tb to see the full traceback.\n",
      "\u001b[1;31mSystemExit\u001b[0m\u001b[1;31m:\u001b[0m True\n"
     ]
    },
    {
     "name": "stderr",
     "output_type": "stream",
     "text": [
      "E:\\Users\\ROSHAN\\anaconda3\\lib\\site-packages\\IPython\\core\\interactiveshell.py:3351: UserWarning: To exit: use 'exit', 'quit', or Ctrl-D.\n",
      "  warn(\"To exit: use 'exit', 'quit', or Ctrl-D.\", stacklevel=1)\n"
     ]
    }
   ],
   "source": [
    "import unittest\n",
    "\n",
    "def check_prime(n):\n",
    "    for i in range(1,n+1):\n",
    "        if n%i == 0:\n",
    "            count+=1\n",
    "    if count == 2:\n",
    "        return True\n",
    "    else:\n",
    "        return False\n",
    "\n",
    "class prime(unittest.TestCase):\n",
    "    def is_prime(self):\n",
    "        x=5\n",
    "        result = check_prime(x)\n",
    "        self.assertEquals(result,True)\n",
    "if __name__==\"__main__\":\n",
    "    unittest.main()"
   ]
  },
  {
   "cell_type": "code",
   "execution_count": null,
   "metadata": {},
   "outputs": [],
   "source": []
  }
 ],
 "metadata": {
  "kernelspec": {
   "display_name": "Python 3",
   "language": "python",
   "name": "python3"
  },
  "language_info": {
   "codemirror_mode": {
    "name": "ipython",
    "version": 3
   },
   "file_extension": ".py",
   "mimetype": "text/x-python",
   "name": "python",
   "nbconvert_exporter": "python",
   "pygments_lexer": "ipython3",
   "version": "3.8.3"
  }
 },
 "nbformat": 4,
 "nbformat_minor": 4
}
