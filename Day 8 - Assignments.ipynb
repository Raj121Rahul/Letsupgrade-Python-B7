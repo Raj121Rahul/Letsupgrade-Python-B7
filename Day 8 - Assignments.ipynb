{
 "cells": [
  {
   "cell_type": "markdown",
   "metadata": {},
   "source": [
    "#  Question - 1"
   ]
  },
  {
   "cell_type": "code",
   "execution_count": 3,
   "metadata": {},
   "outputs": [
    {
     "name": "stdout",
     "output_type": "stream",
     "text": [
      "[144, 233, 377, 610, 987, 1597, 2584, 4181, 6765, 10946]\n"
     ]
    }
   ],
   "source": [
    "# Python programe for fibonacci series for m numbers greater than n\n",
    "lst = [0,1,]\n",
    "ls = []\n",
    "def fibonacci(n,m):\n",
    "    a=0\n",
    "    b=1\n",
    "    for i in range(0,n):\n",
    "        s = 0\n",
    "        s = a + b\n",
    "        a = b\n",
    "        b = s\n",
    "        lst.append(s)\n",
    "        if s > n:\n",
    "            a = lst[i+1]\n",
    "            b = lst[i+2]\n",
    "            break\n",
    "    ls = [b,]\n",
    "    for p in range(0,m-1):\n",
    "        s = a + b\n",
    "        a = b\n",
    "        b = s\n",
    "        ls.append(s)\n",
    "    print(ls)\n",
    "\n",
    "fibo = fibonacci\n",
    "\n",
    "fibo(100,10)   \n",
    "    \n",
    "\n"
   ]
  },
  {
   "cell_type": "markdown",
   "metadata": {},
   "source": [
    "#  Question - 2"
   ]
  },
  {
   "cell_type": "code",
   "execution_count": 2,
   "metadata": {},
   "outputs": [
    {
     "name": "stdout",
     "output_type": "stream",
     "text": [
      "Error in file\n"
     ]
    }
   ],
   "source": [
    "try:\n",
    "    fp = open (\"rahul.txt\",\"r\")\n",
    "    fp.write(\"how are you\")\n",
    "    fp.close()\n",
    "except IOError:\n",
    "    print(\"Error in file\")"
   ]
  },
  {
   "cell_type": "code",
   "execution_count": null,
   "metadata": {},
   "outputs": [],
   "source": []
  }
 ],
 "metadata": {
  "kernelspec": {
   "display_name": "Python 3",
   "language": "python",
   "name": "python3"
  },
  "language_info": {
   "codemirror_mode": {
    "name": "ipython",
    "version": 3
   },
   "file_extension": ".py",
   "mimetype": "text/x-python",
   "name": "python",
   "nbconvert_exporter": "python",
   "pygments_lexer": "ipython3",
   "version": "3.8.3"
  }
 },
 "nbformat": 4,
 "nbformat_minor": 4
}
