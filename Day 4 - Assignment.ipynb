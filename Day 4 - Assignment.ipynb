{
 "cells": [
  {
   "cell_type": "code",
   "execution_count": 1,
   "metadata": {},
   "outputs": [],
   "source": [
    "#  Print the first Armstrong number in the range of 1042000 to 702648265 and exit the loop as soon as you encounter the first \n",
    "#  armstrong number.\n",
    "#  Use while loop"
   ]
  },
  {
   "cell_type": "code",
   "execution_count": 2,
   "metadata": {},
   "outputs": [
    {
     "name": "stdout",
     "output_type": "stream",
     "text": [
      "The first armstrong number is: 1741725\n"
     ]
    }
   ],
   "source": [
    "s=0\n",
    "p=1\n",
    "q=0\n",
    "for n in range(1042000,702648265):\n",
    "    s=0\n",
    "    q=n\n",
    "    while q>0:\n",
    "        p=q%10\n",
    "        s+=p*p*p*p*p*p*p\n",
    "        q=q/10\n",
    "        q=int(q)\n",
    "    if(s==n):\n",
    "        print(\"The first armstrong number is:\",s)\n",
    "        break"
   ]
  },
  {
   "cell_type": "code",
   "execution_count": null,
   "metadata": {},
   "outputs": [],
   "source": []
  }
 ],
 "metadata": {
  "kernelspec": {
   "display_name": "Python 3",
   "language": "python",
   "name": "python3"
  },
  "language_info": {
   "codemirror_mode": {
    "name": "ipython",
    "version": 3
   },
   "file_extension": ".py",
   "mimetype": "text/x-python",
   "name": "python",
   "nbconvert_exporter": "python",
   "pygments_lexer": "ipython3",
   "version": "3.8.3"
  }
 },
 "nbformat": 4,
 "nbformat_minor": 4
}
